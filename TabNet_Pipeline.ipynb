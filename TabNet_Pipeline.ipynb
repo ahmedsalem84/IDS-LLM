{
 "cells": [
  {
   "cell_type": "markdown",
   "id": "f0d3a7b4",
   "metadata": {},
   "source": [
    "# TabNet Pipeline for NSL-KDD Dataset"
   ]
  },
  {
   "cell_type": "code",
   "execution_count": 25,
   "id": "4add0ae4",
   "metadata": {},
   "outputs": [],
   "source": [
    "\n",
    "# Import Required Libraries\n",
    "# Ensure you have the following installed: pytorch-tabnet, sklearn, pandas, numpy, matplotlib, seaborn\n",
    "# Install with: pip install pytorch-tabnet numpy pandas scikit-learn matplotlib seaborn\n",
    "\n",
    "import numpy as np\n",
    "import pandas as pd\n",
    "from sklearn.model_selection import train_test_split\n",
    "from sklearn.preprocessing import StandardScaler\n",
    "from sklearn.metrics import confusion_matrix, classification_report, roc_curve, auc\n",
    "from matplotlib import pyplot as plt\n",
    "from pytorch_tabnet.tab_model import TabNetClassifier\n",
    "import torch\n",
    "import seaborn as sns\n",
    "\n",
    "# Create a folder for visualizations\n",
    "import os\n",
    "os.makedirs(\"visualization\", exist_ok=True)\n"
   ]
  },
  {
   "cell_type": "markdown",
   "id": "e3ac4105",
   "metadata": {},
   "source": [
    "## Step 1: Load Data"
   ]
  },
  {
   "cell_type": "code",
   "execution_count": 26,
   "id": "8c55f636",
   "metadata": {},
   "outputs": [],
   "source": [
    "\n",
    "# Column names for NSL-KDD dataset\n",
    "c_names = [\n",
    "    \"duration\", \"protocol_type\", \"service\", \"flag\", \"src_bytes\", \"dst_bytes\",\n",
    "    \"land\", \"wrong_fragment\", \"urgent\", \"hot\", \"num_failed_logins\", \"logged_in\",\n",
    "    \"num_compromised\", \"root_shell\", \"su_attempted\", \"num_root\", \"num_file_creations\",\n",
    "    \"num_shells\", \"num_access_files\", \"num_outbound_cmds\", \"is_host_login\", \"is_guest_login\",\n",
    "    \"count\", \"srv_count\", \"serror_rate\", \"srv_serror_rate\", \"rerror_rate\", \"srv_rerror_rate\",\n",
    "    \"same_srv_rate\", \"diff_srv_rate\", \"srv_diff_host_rate\", \"dst_host_count\", \"dst_host_srv_count\",\n",
    "    \"dst_host_same_srv_rate\", \"dst_host_diff_srv_rate\", \"dst_host_same_src_port_rate\",\n",
    "    \"dst_host_srv_diff_host_rate\", \"dst_host_serror_rate\", \"dst_host_srv_serror_rate\",\n",
    "    \"dst_host_rerror_rate\", \"dst_host_srv_rerror_rate\", \"labels\"\n",
    "]\n",
    "\n",
    "# Load training and testing datasets\n",
    "train = pd.read_csv(\"data/KDDTrain+.txt\", names=c_names)\n",
    "test = pd.read_csv(\"data/KDDTest+.txt\", names=c_names)\n"
   ]
  },
  {
   "cell_type": "markdown",
   "id": "1ba67fd8",
   "metadata": {},
   "source": [
    "## Step 2: Data Preprocessing"
   ]
  },
  {
   "cell_type": "code",
   "execution_count": 27,
   "id": "9164877a",
   "metadata": {},
   "outputs": [
    {
     "ename": "ModuleNotFoundError",
     "evalue": "No module named 'imblearn'",
     "output_type": "error",
     "traceback": [
      "\u001b[0;31m---------------------------------------------------------------------------\u001b[0m",
      "\u001b[0;31mModuleNotFoundError\u001b[0m                       Traceback (most recent call last)",
      "Cell \u001b[0;32mIn[27], line 32\u001b[0m\n\u001b[1;32m     27\u001b[0m x_train, x_val, y_train, y_val \u001b[38;5;241m=\u001b[39m train_test_split(\n\u001b[1;32m     28\u001b[0m     X_train, y_train, test_size\u001b[38;5;241m=\u001b[39m\u001b[38;5;241m0.2\u001b[39m, random_state\u001b[38;5;241m=\u001b[39m\u001b[38;5;241m42\u001b[39m, stratify\u001b[38;5;241m=\u001b[39my_train\n\u001b[1;32m     29\u001b[0m )\n\u001b[1;32m     31\u001b[0m \u001b[38;5;66;03m# Optional: Rebalance the training data (if imbalance exists)\u001b[39;00m\n\u001b[0;32m---> 32\u001b[0m \u001b[38;5;28;01mfrom\u001b[39;00m \u001b[38;5;21;01mimblearn\u001b[39;00m\u001b[38;5;21;01m.\u001b[39;00m\u001b[38;5;21;01mover_sampling\u001b[39;00m \u001b[38;5;28;01mimport\u001b[39;00m SMOTE\n\u001b[1;32m     33\u001b[0m smote \u001b[38;5;241m=\u001b[39m SMOTE(random_state\u001b[38;5;241m=\u001b[39m\u001b[38;5;241m42\u001b[39m)\n\u001b[1;32m     34\u001b[0m x_train, y_train \u001b[38;5;241m=\u001b[39m smote\u001b[38;5;241m.\u001b[39mfit_resample(x_train, y_train)\n",
      "\u001b[0;31mModuleNotFoundError\u001b[0m: No module named 'imblearn'"
     ]
    }
   ],
   "source": [
    "\n",
    "# Convert categorical features to numerical\n",
    "categorical_features = [\"protocol_type\", \"service\", \"flag\"]\n",
    "\n",
    "for col in categorical_features:\n",
    "    train[col] = train[col].astype(\"category\")\n",
    "    test[col] = test[col].astype(\"category\")\n",
    "    test[col] = test[col].cat.set_categories(train[col].cat.categories).cat.codes\n",
    "    train[col] = train[col].cat.codes\n",
    "\n",
    "# Map 'labels' column to binary classes (1 for 'normal', 0 for 'attack')\n",
    "train[\"labels\"] = train[\"labels\"].apply(lambda x: 1 if x == \"normal\" else 0)\n",
    "test[\"labels\"] = test[\"labels\"].apply(lambda x: 1 if x == \"normal\" else 0)\n",
    "\n",
    "# Separate features and labels\n",
    "numerical_columns = train.select_dtypes(include=[\"int64\", \"float64\"]).columns\n",
    "X_train = train[numerical_columns].drop(\"labels\", axis=1).values\n",
    "X_test = test[numerical_columns].drop(\"labels\", axis=1).values\n",
    "y_train = train[\"labels\"].values\n",
    "y_test = test[\"labels\"].values\n",
    "\n",
    "# Normalize numerical features\n",
    "scaler = StandardScaler()\n",
    "X_train = scaler.fit_transform(X_train)\n",
    "X_test = scaler.transform(X_test)\n",
    "\n",
    "# Split training data into training and validation sets (Stratified)\n",
    "x_train, x_val, y_train, y_val = train_test_split(\n",
    "    X_train, y_train, test_size=0.2, random_state=42, stratify=y_train\n",
    ")\n",
    "\n",
    "# Optional: Rebalance the training data (if imbalance exists)\n",
    "from imblearn.over_sampling import SMOTE\n",
    "smote = SMOTE(random_state=42)\n",
    "x_train, y_train = smote.fit_resample(x_train, y_train)\n",
    "\n",
    "# Validate class distribution\n",
    "print(f\"Training labels distribution: {np.bincount(y_train)}\")\n",
    "print(f\"Validation labels distribution: {np.bincount(y_val)}\")\n",
    "print(f\"Test labels distribution: {np.bincount(y_test)}\")\n"
   ]
  },
  {
   "cell_type": "markdown",
   "id": "d820e92a",
   "metadata": {},
   "source": [
    "## Step 3: Build and Train TabNet Model"
   ]
  },
  {
   "cell_type": "code",
   "execution_count": null,
   "id": "643ddd38",
   "metadata": {},
   "outputs": [],
   "source": [
    "\n",
    "# Build TabNet Model\n",
    "clf = TabNetClassifier(\n",
    "    n_d=32, n_a=32, n_steps=5,\n",
    "    gamma=1.5, lambda_sparse=1e-2,  # Regularization added\n",
    "    optimizer_fn=torch.optim.Adam,\n",
    "    optimizer_params=dict(lr=2e-2),\n",
    "    scheduler_params={\"step_size\":10, \"gamma\":0.9},\n",
    "    scheduler_fn=torch.optim.lr_scheduler.StepLR,\n",
    "    mask_type=\"entmax\"\n",
    ")\n",
    "\n",
    "# Train the TabNet model\n",
    "print(\"Training TabNet Model...\")\n",
    "clf.fit(\n",
    "    x_train, y_train,\n",
    "    eval_set=[(x_train, y_train), (x_val, y_val)],\n",
    "    eval_name=[\"train\", \"valid\"],\n",
    "    eval_metric=[\"accuracy\"],\n",
    "    max_epochs=50,\n",
    "    patience=10,\n",
    "    batch_size=256,\n",
    "    virtual_batch_size=128,\n",
    "    num_workers=0,\n",
    "    drop_last=False\n",
    ")\n"
   ]
  },
  {
   "cell_type": "markdown",
   "id": "c124f528",
   "metadata": {},
   "source": [
    "## Step 4: Evaluate the Model"
   ]
  },
  {
   "cell_type": "code",
   "execution_count": null,
   "id": "a2c2875d",
   "metadata": {},
   "outputs": [],
   "source": [
    "\n",
    "# Evaluate on the test set\n",
    "test_preds = clf.predict(X_test)\n",
    "test_proba = clf.predict_proba(X_test)[:, 1]\n",
    "\n",
    "# Confusion Matrix\n",
    "cm = confusion_matrix(y_test, test_preds)\n",
    "plt.figure(figsize=(8, 6))\n",
    "sns.heatmap(cm, annot=True, fmt=\"d\", cmap=\"Blues\", xticklabels=[\"Attack\", \"Normal\"], yticklabels=[\"Attack\", \"Normal\"])\n",
    "plt.title(\"Confusion Matrix\", fontsize=14)\n",
    "plt.xlabel(\"Predicted Label\", fontsize=12)\n",
    "plt.ylabel(\"True Label\", fontsize=12)\n",
    "plt.tight_layout()\n",
    "plt.savefig(\"visualization/tabnet_confusion_matrix.png\")\n",
    "plt.close()\n",
    "\n",
    "# Classification Report\n",
    "report = classification_report(y_test, test_preds, target_names=[\"Attack\", \"Normal\"], output_dict=True)\n",
    "print(\"Classification Report:\\n\", classification_report(y_test, test_preds, target_names=[\"Attack\", \"Normal\"]))\n",
    "\n",
    "# ROC Curve\n",
    "fpr, tpr, _ = roc_curve(y_test, test_proba)\n",
    "roc_auc = auc(fpr, tpr)\n",
    "plt.figure(figsize=(8, 6))\n",
    "plt.plot(fpr, tpr, color=\"darkorange\", lw=2, label=f\"ROC curve (area = {roc_auc:.2f})\")\n",
    "plt.plot([0, 1], [0, 1], color=\"navy\", lw=2, linestyle=\"--\")\n",
    "plt.title(\"Receiver Operating Characteristic\", fontsize=14)\n",
    "plt.xlabel(\"False Positive Rate\", fontsize=12)\n",
    "plt.ylabel(\"True Positive Rate\", fontsize=12)\n",
    "plt.legend(loc=\"lower right\")\n",
    "plt.grid(True)\n",
    "plt.tight_layout()\n",
    "plt.savefig(\"visualization/tabnet_roc_curve.png\")\n",
    "plt.close()\n"
   ]
  },
  {
   "cell_type": "markdown",
   "id": "a41bec08",
   "metadata": {},
   "source": [
    "## Step 5: Feature Importance"
   ]
  },
  {
   "cell_type": "code",
   "execution_count": null,
   "id": "224febc5",
   "metadata": {},
   "outputs": [],
   "source": [
    "\n",
    "# Plot Feature Importance\n",
    "feature_importances = clf.feature_importances_\n",
    "plt.figure(figsize=(10, 6))\n",
    "plt.bar(range(len(feature_importances)), feature_importances)\n",
    "plt.title(\"TabNet Feature Importances\", fontsize=14)\n",
    "plt.xlabel(\"Feature Index\", fontsize=12)\n",
    "plt.ylabel(\"Importance\", fontsize=12)\n",
    "plt.tight_layout()\n",
    "plt.savefig(\"visualization/tabnet_feature_importance.png\")\n",
    "plt.close()\n",
    "\n",
    "print(\"Pipeline complete. All visualizations saved to the 'visualization' folder.\")\n"
   ]
  }
 ],
 "metadata": {
  "kernelspec": {
   "display_name": "mlenv",
   "language": "python",
   "name": "python3"
  },
  "language_info": {
   "name": "python",
   "version": "3.8.20"
  }
 },
 "nbformat": 4,
 "nbformat_minor": 5
}
